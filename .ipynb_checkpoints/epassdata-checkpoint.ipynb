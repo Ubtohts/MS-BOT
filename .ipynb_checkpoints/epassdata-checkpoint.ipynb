{
 "cells": [
  {
   "cell_type": "code",
   "execution_count": 64,
   "metadata": {},
   "outputs": [],
   "source": [
    "import sqlite3\n",
    "import pandas as pd\n",
    "\n",
    "def addstudent(name,pas):\n",
    "#     name =  nameinput.text()\n",
    "#     mobile =  mobileinput.text()\n",
    "\n",
    "    try:\n",
    "        conn = sqlite3.connect(\"epassdata.db\")\n",
    "        c =  conn.cursor()\n",
    "        c.execute(\"\"\"CREATE TABLE IF NOT EXISTS students (name, pas)\"\"\")\n",
    "        c.execute(\"INSERT INTO students (name,pas) VALUES (?,?)\",(name,pas))\n",
    "        conn.commit()\n",
    "        c.close()\n",
    "        print('Successful','Student is added successfully to the database.')\n",
    "        result=pd.read_sql_query(\"select * from students;\",conn)\n",
    "        print(result)\n",
    "        conn.close()\n",
    "    except Exception:\n",
    "        print('Error', 'Could not add student to the database.')\n"
   ]
  },
  {
   "cell_type": "code",
   "execution_count": 65,
   "metadata": {},
   "outputs": [
    {
     "name": "stdout",
     "output_type": "stream",
     "text": [
      "Successful Student is added successfully to the database.\n",
      "         name       pas\n",
      "0  chauhanraj  iamdevil\n"
     ]
    }
   ],
   "source": [
    "addstudent(\"chauhanraj\", \"iamdevil\")"
   ]
  },
  {
   "cell_type": "code",
   "execution_count": null,
   "metadata": {},
   "outputs": [],
   "source": [
    "def deletestudent(inputname):\n",
    "    try:\n",
    "        conn = sqlite3.connect(\"epassdata.db\")\n",
    "        sql = 'DELETE FROM students WHERE name=?'\n",
    "        c = conn.cursor()\n",
    "        c.execute(sql, (inputname,))\n",
    "        conn.commit()\n",
    "        c.close()\n",
    "        result=pd.read_sql_query(\"select * from students;\",conn)\n",
    "        print(result)\n",
    "        conn.close()\n",
    "        print('Successful','Deleted From Table Successful')\n",
    "    except Exception:\n",
    "        print('Error', 'Could not Delete student from the database.')"
   ]
  },
  {
   "cell_type": "code",
   "execution_count": 49,
   "metadata": {},
   "outputs": [
    {
     "ename": "OperationalError",
     "evalue": "no such column: iamdevil",
     "output_type": "error",
     "traceback": [
      "\u001b[1;31m---------------------------------------------------------------------------\u001b[0m",
      "\u001b[1;31mOperationalError\u001b[0m                          Traceback (most recent call last)",
      "\u001b[1;32m<ipython-input-49-8706f1839023>\u001b[0m in \u001b[0;36m<module>\u001b[1;34m\u001b[0m\n\u001b[1;32m----> 1\u001b[1;33m \u001b[0mdeletestudent\u001b[0m\u001b[1;33m(\u001b[0m\u001b[1;34m'iamdevil'\u001b[0m\u001b[1;33m)\u001b[0m\u001b[1;33m\u001b[0m\u001b[1;33m\u001b[0m\u001b[0m\n\u001b[0m",
      "\u001b[1;32m<ipython-input-48-4027b6a9eb26>\u001b[0m in \u001b[0;36mdeletestudent\u001b[1;34m(inputname)\u001b[0m\n\u001b[0;32m      2\u001b[0m     \u001b[0mconn\u001b[0m \u001b[1;33m=\u001b[0m \u001b[0msqlite3\u001b[0m\u001b[1;33m.\u001b[0m\u001b[0mconnect\u001b[0m\u001b[1;33m(\u001b[0m\u001b[1;34m\"epassdata.db\"\u001b[0m\u001b[1;33m)\u001b[0m\u001b[1;33m\u001b[0m\u001b[1;33m\u001b[0m\u001b[0m\n\u001b[0;32m      3\u001b[0m     \u001b[0mc\u001b[0m \u001b[1;33m=\u001b[0m \u001b[0mconn\u001b[0m\u001b[1;33m.\u001b[0m\u001b[0mcursor\u001b[0m\u001b[1;33m(\u001b[0m\u001b[1;33m)\u001b[0m\u001b[1;33m\u001b[0m\u001b[1;33m\u001b[0m\u001b[0m\n\u001b[1;32m----> 4\u001b[1;33m     \u001b[0mc\u001b[0m\u001b[1;33m.\u001b[0m\u001b[0mexecute\u001b[0m\u001b[1;33m(\u001b[0m\u001b[1;34m\"DELETE from students WHERE pas=\"\u001b[0m\u001b[1;33m+\u001b[0m\u001b[0mstr\u001b[0m\u001b[1;33m(\u001b[0m\u001b[0minputname\u001b[0m\u001b[1;33m)\u001b[0m\u001b[1;33m)\u001b[0m\u001b[1;33m\u001b[0m\u001b[1;33m\u001b[0m\u001b[0m\n\u001b[0m\u001b[0;32m      5\u001b[0m     \u001b[0mconn\u001b[0m\u001b[1;33m.\u001b[0m\u001b[0mcommit\u001b[0m\u001b[1;33m(\u001b[0m\u001b[1;33m)\u001b[0m\u001b[1;33m\u001b[0m\u001b[1;33m\u001b[0m\u001b[0m\n\u001b[0;32m      6\u001b[0m     \u001b[0mc\u001b[0m\u001b[1;33m.\u001b[0m\u001b[0mclose\u001b[0m\u001b[1;33m(\u001b[0m\u001b[1;33m)\u001b[0m\u001b[1;33m\u001b[0m\u001b[1;33m\u001b[0m\u001b[0m\n",
      "\u001b[1;31mOperationalError\u001b[0m: no such column: iamdevil"
     ]
    }
   ],
   "source": [
    "deletestudent('iamdevil')"
   ]
  },
  {
   "cell_type": "code",
   "execution_count": 63,
   "metadata": {},
   "outputs": [
    {
     "name": "stdout",
     "output_type": "stream",
     "text": [
      "Empty DataFrame\n",
      "Columns: [name, pas]\n",
      "Index: []\n",
      "Successful Deleted From Table Successful\n"
     ]
    }
   ],
   "source": [
    "def deletestudent(inputname, password):\n",
    "    conn = sqlite3.connect(\"epassdata.db\")\n",
    "    sql = 'DELETE FROM students WHERE name=?'\n",
    "    c = conn.cursor()\n",
    "    c.execute(sql, (inputname,))\n",
    "    conn.commit()\n",
    "    c.close()\n",
    "    result=pd.read_sql_query(\"select * from students;\",conn)\n",
    "    print(result)\n",
    "    conn.close()\n",
    "    print('Successful','Deleted From Table Successful')\n",
    "deletestudent('chauhanraj','iamdevil')"
   ]
  },
  {
   "cell_type": "code",
   "execution_count": null,
   "metadata": {},
   "outputs": [],
   "source": []
  },
  {
   "cell_type": "code",
   "execution_count": null,
   "metadata": {},
   "outputs": [],
   "source": []
  }
 ],
 "metadata": {
  "kernelspec": {
   "display_name": "Python 3",
   "language": "python",
   "name": "python3"
  },
  "language_info": {
   "codemirror_mode": {
    "name": "ipython",
    "version": 3
   },
   "file_extension": ".py",
   "mimetype": "text/x-python",
   "name": "python",
   "nbconvert_exporter": "python",
   "pygments_lexer": "ipython3",
   "version": "3.8.5"
  }
 },
 "nbformat": 4,
 "nbformat_minor": 4
}
